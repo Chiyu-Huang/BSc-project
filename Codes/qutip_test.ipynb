{
 "cells": [
  {
   "cell_type": "code",
   "execution_count": 1,
   "metadata": {},
   "outputs": [],
   "source": [
    "import numpy as np\n",
    "import matplotlib.pyplot as plt\n",
    "from qutip import *"
   ]
  },
  {
   "cell_type": "markdown",
   "metadata": {},
   "source": [
    "Create and play with the properties of a quantum object"
   ]
  },
  {
   "cell_type": "code",
   "execution_count": 2,
   "metadata": {},
   "outputs": [
    {
     "name": "stdout",
     "output_type": "stream",
     "text": [
      "Quantum object: dims=[[2], [2]], shape=(2, 2), type='oper', dtype=Dense, isherm=True\n",
      "Qobj data =\n",
      "[[1. 2.]\n",
      " [2. 4.]]\n",
      "Quantum object: dims=[[2], [1]], shape=(2, 1), type='ket', dtype=Dense\n",
      "Qobj data =\n",
      "[[1.]\n",
      " [2.]]\n"
     ]
    }
   ],
   "source": [
    "# Create a random operator as a 2x2 square matrix\n",
    "Operator1 = Qobj([[1, 2], [2, 4]])\n",
    "print(Operator1)\n",
    "\n",
    "# Create a random state as a 2 vector\n",
    "State1 = Qobj([[1], [2]])\n",
    "print(State1)"
   ]
  },
  {
   "cell_type": "code",
   "execution_count": 3,
   "metadata": {},
   "outputs": [
    {
     "name": "stderr",
     "output_type": "stream",
     "text": [
      "c:\\Users\\USER\\AppData\\Local\\Programs\\Python\\Python310\\lib\\site-packages\\qutip\\core\\qobj.py:1626: UserWarning: Ground state may be degenerate.\n",
      "  warnings.warn(\"Ground state may be degenerate.\", UserWarning)\n"
     ]
    }
   ],
   "source": [
    "# Generate some useful operators\n",
    "\n",
    "H = Qobj([[1, 2, 3, 4], [1, 2, 3, 4],[1, 2, 3, 4],[1, 2, 3, 4]])\n",
    "e, s = H.groundstate()"
   ]
  },
  {
   "cell_type": "code",
   "execution_count": 4,
   "metadata": {},
   "outputs": [
    {
     "name": "stdout",
     "output_type": "stream",
     "text": [
      "0j Quantum object: dims=[[4], [1]], shape=(4, 1), type='ket', dtype=Dense\n",
      "Qobj data =\n",
      "[[ 0.98198051]\n",
      " [-0.10910895]\n",
      " [-0.10910895]\n",
      " [-0.10910895]]\n"
     ]
    }
   ],
   "source": [
    "print(e, s)"
   ]
  },
  {
   "cell_type": "code",
   "execution_count": 5,
   "metadata": {},
   "outputs": [
    {
     "name": "stdout",
     "output_type": "stream",
     "text": [
      "atom g [[1.+0.j]\n",
      " [0.+0.j]]\n",
      "light n [[0.+0.j]\n",
      " [1.+0.j]]\n",
      "atom e [[0.+0.j]\n",
      " [1.+0.j]]\n",
      "light n-1 [[1.+0.j]\n",
      " [0.+0.j]]\n",
      "tens [[0.+0.j]\n",
      " [0.+0.j]\n",
      " [1.+0.j]\n",
      " [0.+0.j]]\n",
      "no tens [[0.+0.j]\n",
      " [0.+0.j]\n",
      " [1.+0.j]\n",
      " [0.+0.j]]\n"
     ]
    }
   ],
   "source": [
    "#   Tensor notation\n",
    "g = basis(2, 0)     # Ground state is (1, 0), basis(2,0) means a \"2\" dim vector with 1 being at the \"0\"th index\n",
    "n = basis(2, 1)\n",
    "\n",
    "a = destroy(2)      # Make the annihilation and excitation operators\n",
    "sig_p = create(2)\n",
    "\n",
    "e = (sig_p*g)       # Act excitation on ground\n",
    "n_1 = (a*n)         # Act annihilation on n photons\n",
    "\n",
    "\n",
    "print('atom g', g.full())\n",
    "print('light n', n.full())\n",
    "print('atom e', e.full())\n",
    "print('light n-1', n_1.full())\n",
    "\n",
    "e_n_1 = tensor(e, n_1)  # Encode by making this |e, n-1>\n",
    "\n",
    "\n",
    "# We can achieve the same e_n_1 as above directly using tensors:\n",
    "# instead of applying sig_p on g and a on n directly, I make sig_p X a and g X n\n",
    "# (where X is tensor product) and apply one to the other\n",
    "g_n = tensor(g, n)\n",
    "e_n_1_tens = tensor(sig_p, a)*g_n\n",
    "\n",
    "\n",
    "# Comparing the results to find they are the same\n",
    "print('tens', e_n_1_tens.full())\n",
    "print('no tens', e_n_1.full())"
   ]
  },
  {
   "cell_type": "code",
   "execution_count": 6,
   "metadata": {},
   "outputs": [
    {
     "name": "stdout",
     "output_type": "stream",
     "text": [
      "(array([-0.58113883,  0.5       ,  1.5       ,  2.58113883]), array([Quantum object: dims=[[2, 2], [1, 1]], shape=(4, 1), type='ket', dtype=Dense\n",
      "       Qobj data =\n",
      "       [[ 0.        ]\n",
      "        [-0.16018224]\n",
      "        [ 0.98708746]\n",
      "        [ 0.        ]]                                                             ,\n",
      "       Quantum object: dims=[[2, 2], [1, 1]], shape=(4, 1), type='ket', dtype=Dense\n",
      "       Qobj data =\n",
      "       [[1.]\n",
      "        [0.]\n",
      "        [0.]\n",
      "        [0.]]                                                                      ,\n",
      "       Quantum object: dims=[[2, 2], [1, 1]], shape=(4, 1), type='ket', dtype=Dense\n",
      "       Qobj data =\n",
      "       [[0.]\n",
      "        [0.]\n",
      "        [0.]\n",
      "        [1.]]                                                                      ,\n",
      "       Quantum object: dims=[[2, 2], [1, 1]], shape=(4, 1), type='ket', dtype=Dense\n",
      "       Qobj data =\n",
      "       [[0.        ]\n",
      "        [0.98708746]\n",
      "        [0.16018224]\n",
      "        [0.        ]]                                                              ],\n",
      "      dtype=object))\n",
      "[-0.58113883  0.5         1.5         2.58113883]\n"
     ]
    }
   ],
   "source": [
    "# Making the hamiltonian\n",
    "\n",
    "# N = number of photons, thus number of \"possible\" atom states, but of course only\n",
    "# two is accessible (ground and n), and we do not allow further excitation. Thus\n",
    "# still work in 2 dimensions, but N is used for scaling?\n",
    "N = 10\n",
    "a = destroy(2)\n",
    "a_dag = a.dag()\n",
    "sig_p = create(2)\n",
    "sig_m = destroy(2)\n",
    "sigma_z = tensor(sigmaz(), qeye(2)) # making sigmaz a tensor that only applies on the atom, not light\n",
    "                                  # because qeye is the identity matrix, and in this program:\n",
    "                                  # (A X B)(gXn) --> Ag X Bn if A and B applies on g and n only, respectively\n",
    "Count_op = tensor(qeye(2), a_dag*a)\n",
    "\n",
    "wa = 1 # atom frequency\n",
    "wc = 2 # photon frequency\n",
    "Omega = 1 # Rabi oscillation frequency\n",
    "\n",
    "\n",
    "H_JC = wa/2 * sigma_z + wc*Count_op + Omega/2 * (tensor(sig_p, a) + tensor(sig_m, a_dag))\n",
    "\n",
    "print(H_JC.eigenstates())\n",
    "print(H_JC.eigenenergies())\n"
   ]
  },
  {
   "cell_type": "code",
   "execution_count": 7,
   "metadata": {},
   "outputs": [
    {
     "name": "stdout",
     "output_type": "stream",
     "text": [
      "Quantum object: dims=[[2, 2], [1, 1]], shape=(4, 1), type='ket', dtype=Dense\n",
      "Qobj data =\n",
      "[[0.]\n",
      " [1.]\n",
      " [0.]\n",
      " [0.]]\n"
     ]
    }
   ],
   "source": [
    "print(Count_op * g_n)"
   ]
  },
  {
   "cell_type": "code",
   "execution_count": 8,
   "metadata": {},
   "outputs": [
    {
     "name": "stdout",
     "output_type": "stream",
     "text": [
      "Quantum object: dims=[[2, 2], [1, 1]], shape=(4, 1), type='ket', dtype=Dense\n",
      "Qobj data =\n",
      "[[0.]\n",
      " [0.]\n",
      " [1.]\n",
      " [0.]]\n",
      "Quantum object: dims=[[2, 2], [1, 1]], shape=(4, 1), type='ket', dtype=Dense\n",
      "Qobj data =\n",
      "[[ 0.]\n",
      " [ 0.]\n",
      " [-1.]\n",
      " [ 0.]]\n"
     ]
    }
   ],
   "source": [
    "sig = tensor(sigmaz(), qeye(2))\n",
    "print(e_n_1)\n",
    "\n",
    "print(sig*e_n_1)"
   ]
  },
  {
   "cell_type": "code",
   "execution_count": 9,
   "metadata": {},
   "outputs": [
    {
     "name": "stdout",
     "output_type": "stream",
     "text": [
      "Quantum object: dims=[[2, 2], [1, 1]], shape=(4, 1), type='ket', dtype=Dense\n",
      "Qobj data =\n",
      "[[0.]\n",
      " [1.]\n",
      " [0.]\n",
      " [0.]]\n"
     ]
    }
   ],
   "source": [
    "print(g_n)"
   ]
  },
  {
   "cell_type": "code",
   "execution_count": 10,
   "metadata": {},
   "outputs": [
    {
     "name": "stdout",
     "output_type": "stream",
     "text": [
      "Quantum object: dims=[[2, 2], [1, 1]], shape=(4, 1), type='ket', dtype=Dense\n",
      "Qobj data =\n",
      "[[0.]\n",
      " [0.]\n",
      " [1.]\n",
      " [0.]]\n"
     ]
    }
   ],
   "source": [
    "print(e_n_1)"
   ]
  },
  {
   "cell_type": "markdown",
   "metadata": {},
   "source": [
    "Making N photon states (ofc only 2 is accessible)"
   ]
  },
  {
   "cell_type": "code",
   "execution_count": 63,
   "metadata": {},
   "outputs": [
    {
     "name": "stdout",
     "output_type": "stream",
     "text": [
      "-------------- |e,n-1> ----------------\n",
      "Original state : \n",
      "Quantum object: dims=[[2, 2], [1, 1]], shape=(4, 1), type='ket', dtype=Dense\n",
      "Qobj data =\n",
      "[[0.]\n",
      " [0.]\n",
      " [1.]\n",
      " [0.]]\n",
      "acted on state :\n",
      "Quantum object: dims=[[2, 2], [1, 1]], shape=(4, 1), type='ket', dtype=Dense\n",
      "Qobj data =\n",
      "[[0.]\n",
      " [0.]\n",
      " [0.]\n",
      " [0.]]\n",
      "-------------- |g,n> ------------------\n",
      "Quantum object: dims=[[2, 2], [1, 1]], shape=(4, 1), type='ket', dtype=Dense\n",
      "Qobj data =\n",
      "[[0.]\n",
      " [0.]\n",
      " [0.]\n",
      " [0.]]\n",
      "Quantum object: dims=[[2, 2], [1, 1]], shape=(4, 1), type='ket', dtype=Dense\n",
      "Qobj data =\n",
      "[[0.]\n",
      " [1.]\n",
      " [0.]\n",
      " [0.]]\n",
      "Quantum object: dims=[[2], [1]], shape=(2, 1), type='ket', dtype=Dense\n",
      "Qobj data =\n",
      "[[0.]\n",
      " [1.]]\n"
     ]
    }
   ],
   "source": [
    "N = 2 # number of photon states (number of photons + 1(no photon state) )\n",
    "g = basis(2, 0)\n",
    "n = basis(N, N-1)\n",
    "\n",
    "e = basis(2, 1)\n",
    "n_1 = basis(N, N-2)\n",
    "\n",
    "g_n = tensor(g, n)\n",
    "e_n_1 = tensor(e, n_1)\n",
    "\n",
    "\n",
    "sigma_z = tensor(sigmaz(), qeye(N))\n",
    "a = tensor(qeye(2), destroy(N))\n",
    "a_dag = a.dag()\n",
    "sig_p = tensor(create(2), qeye(N))\n",
    "sig_m = sig_p.dag()\n",
    "\n",
    "int_excitation = tensor(create(2), destroy(N))\n",
    "int_deexcitation = tensor(destroy(2), create(N))\n",
    "int_perturn = tensor(destroy(2), destroy(N)) + tensor(create(2), create(N))\n",
    "\n",
    "\n",
    "\n",
    "print('-------------- |e,n-1> ----------------')\n",
    "print('Original state : ')\n",
    "print(e_n_1)\n",
    "print('acted on state :')\n",
    "print((a_dag*a)*e_n_1)\n",
    "\n",
    "\n",
    "print('-------------- |g,n> ------------------')\n",
    "print(sig_m*g_n)\n",
    "print((a_dag*a)*g_n)\n",
    "print(n)"
   ]
  },
  {
   "cell_type": "code",
   "execution_count": 46,
   "metadata": {},
   "outputs": [],
   "source": [
    "wa = 2.5\n",
    "wc = 0.5\n",
    "Omega = 3\n",
    "H_JC = wa/2 * sigma_z + wc * a_dag*a + Omega/2 * (int_excitation + int_deexcitation + int_perturn)\n",
    "\n",
    "# print(H_JC.eigenstates())\n",
    "# print(g_n)\n",
    "# print(e_n_1)"
   ]
  },
  {
   "cell_type": "code",
   "execution_count": 49,
   "metadata": {},
   "outputs": [
    {
     "name": "stdout",
     "output_type": "stream",
     "text": [
      "9.74389685847022\n"
     ]
    }
   ],
   "source": [
    "print(H_JC.eigenenergies()[29])  #e, 10"
   ]
  },
  {
   "cell_type": "code",
   "execution_count": null,
   "metadata": {},
   "outputs": [
    {
     "name": "stdout",
     "output_type": "stream",
     "text": [
      "11.031605496035798\n"
     ]
    }
   ],
   "source": [
    "print(H_JC.eigenenergies()[19])  # e, 10"
   ]
  },
  {
   "cell_type": "code",
   "execution_count": null,
   "metadata": {},
   "outputs": [
    {
     "name": "stdout",
     "output_type": "stream",
     "text": [
      "+---------+---------+---------+---------+---------+---------+---------+---------+---------+----------+----------+----------+----------+----------+----------+----------+----------+----------+----------+----------+\n",
      "| Field 1 | Field 2 | Field 3 | Field 4 | Field 5 | Field 6 | Field 7 | Field 8 | Field 9 | Field 10 | Field 11 | Field 12 | Field 13 | Field 14 | Field 15 | Field 16 | Field 17 | Field 18 | Field 19 | Field 20 |\n",
      "+---------+---------+---------+---------+---------+---------+---------+---------+---------+----------+----------+----------+----------+----------+----------+----------+----------+----------+----------+----------+\n",
      "|   1.0   |   0.0   |   0.0   |   0.0   |   0.0   |   0.0   |   0.0   |   0.0   |   0.0   |   0.0    |   0.0    |   2.0    |   0.0    |   0.0    |   0.0    |   0.0    |   0.0    |   0.0    |   0.0    |   0.0    |\n",
      "|   0.0   |   2.0   |   0.0   |   0.0   |   0.0   |   0.0   |   0.0   |   0.0   |   0.0   |   0.0    |   2.0    |   0.0    |   2.0    |   0.0    |   0.0    |   0.0    |   0.0    |   0.0    |   0.0    |   0.0    |\n",
      "|   0.0   |   0.0   |   2.0   |   0.0   |   0.0   |   0.0   |   0.0   |   0.0   |   0.0   |   0.0    |   0.0    |   2.0    |   0.0    |   3.0    |   0.0    |   0.0    |   0.0    |   0.0    |   0.0    |   0.0    |\n",
      "|   0.0   |   0.0   |   0.0   |   3.0   |   0.0   |   0.0   |   0.0   |   0.0   |   0.0   |   0.0    |   0.0    |   0.0    |   3.0    |   0.0    |   3.0    |   0.0    |   0.0    |   0.0    |   0.0    |   0.0    |\n",
      "|   0.0   |   0.0   |   0.0   |   0.0   |   3.0   |   0.0   |   0.0   |   0.0   |   0.0   |   0.0    |   0.0    |   0.0    |   0.0    |   3.0    |   0.0    |   3.0    |   0.0    |   0.0    |   0.0    |   0.0    |\n",
      "|   0.0   |   0.0   |   0.0   |   0.0   |   0.0   |   4.0   |   0.0   |   0.0   |   0.0   |   0.0    |   0.0    |   0.0    |   0.0    |   0.0    |   3.0    |   0.0    |   4.0    |   0.0    |   0.0    |   0.0    |\n",
      "|   0.0   |   0.0   |   0.0   |   0.0   |   0.0   |   0.0   |   4.0   |   0.0   |   0.0   |   0.0    |   0.0    |   0.0    |   0.0    |   0.0    |   0.0    |   4.0    |   0.0    |   4.0    |   0.0    |   0.0    |\n",
      "|   0.0   |   0.0   |   0.0   |   0.0   |   0.0   |   0.0   |   0.0   |   5.0   |   0.0   |   0.0    |   0.0    |   0.0    |   0.0    |   0.0    |   0.0    |   0.0    |   4.0    |   0.0    |   4.0    |   0.0    |\n",
      "|   0.0   |   0.0   |   0.0   |   0.0   |   0.0   |   0.0   |   0.0   |   0.0   |   5.0   |   0.0    |   0.0    |   0.0    |   0.0    |   0.0    |   0.0    |   0.0    |   0.0    |   4.0    |   0.0    |   4.0    |\n",
      "|   0.0   |   0.0   |   0.0   |   0.0   |   0.0   |   0.0   |   0.0   |   0.0   |   0.0   |   6.0    |   0.0    |   0.0    |   0.0    |   0.0    |   0.0    |   0.0    |   0.0    |   0.0    |   4.0    |   0.0    |\n",
      "|   0.0   |   2.0   |   0.0   |   0.0   |   0.0   |   0.0   |   0.0   |   0.0   |   0.0   |   0.0    |   -1.0   |   0.0    |   0.0    |   0.0    |   0.0    |   0.0    |   0.0    |   0.0    |   0.0    |   0.0    |\n",
      "|   2.0   |   0.0   |   2.0   |   0.0   |   0.0   |   0.0   |   0.0   |   0.0   |   0.0   |   0.0    |   0.0    |   -1.0   |   0.0    |   0.0    |   0.0    |   0.0    |   0.0    |   0.0    |   0.0    |   0.0    |\n",
      "|   0.0   |   2.0   |   0.0   |   3.0   |   0.0   |   0.0   |   0.0   |   0.0   |   0.0   |   0.0    |   0.0    |   0.0    |   -0.0   |   0.0    |   0.0    |   0.0    |   0.0    |   0.0    |   0.0    |   0.0    |\n",
      "|   0.0   |   0.0   |   3.0   |   0.0   |   3.0   |   0.0   |   0.0   |   0.0   |   0.0   |   0.0    |   0.0    |   0.0    |   0.0    |   0.0    |   0.0    |   0.0    |   0.0    |   0.0    |   0.0    |   0.0    |\n",
      "|   0.0   |   0.0   |   0.0   |   3.0   |   0.0   |   3.0   |   0.0   |   0.0   |   0.0   |   0.0    |   0.0    |   0.0    |   0.0    |   0.0    |   1.0    |   0.0    |   0.0    |   0.0    |   0.0    |   0.0    |\n",
      "|   0.0   |   0.0   |   0.0   |   0.0   |   3.0   |   0.0   |   4.0   |   0.0   |   0.0   |   0.0    |   0.0    |   0.0    |   0.0    |   0.0    |   0.0    |   1.0    |   0.0    |   0.0    |   0.0    |   0.0    |\n",
      "|   0.0   |   0.0   |   0.0   |   0.0   |   0.0   |   4.0   |   0.0   |   4.0   |   0.0   |   0.0    |   0.0    |   0.0    |   0.0    |   0.0    |   0.0    |   0.0    |   2.0    |   0.0    |   0.0    |   0.0    |\n",
      "|   0.0   |   0.0   |   0.0   |   0.0   |   0.0   |   0.0   |   4.0   |   0.0   |   4.0   |   0.0    |   0.0    |   0.0    |   0.0    |   0.0    |   0.0    |   0.0    |   0.0    |   2.0    |   0.0    |   0.0    |\n",
      "|   0.0   |   0.0   |   0.0   |   0.0   |   0.0   |   0.0   |   0.0   |   4.0   |   0.0   |   4.0    |   0.0    |   0.0    |   0.0    |   0.0    |   0.0    |   0.0    |   0.0    |   0.0    |   3.0    |   0.0    |\n",
      "|   0.0   |   0.0   |   0.0   |   0.0   |   0.0   |   0.0   |   0.0   |   0.0   |   4.0   |   0.0    |   0.0    |   0.0    |   0.0    |   0.0    |   0.0    |   0.0    |   0.0    |   0.0    |   0.0    |   3.0    |\n",
      "+---------+---------+---------+---------+---------+---------+---------+---------+---------+----------+----------+----------+----------+----------+----------+----------+----------+----------+----------+----------+\n"
     ]
    }
   ],
   "source": [
    "from prettytable import PrettyTable\n",
    "\n",
    "matrix = np.round(np.real(H_JC.full()))\n",
    "table = PrettyTable()\n",
    "\n",
    "for row in matrix:\n",
    "    table.add_row(row)\n"
   ]
  },
  {
   "cell_type": "code",
   "execution_count": 64,
   "metadata": {},
   "outputs": [
    {
     "ename": "TypeError",
     "evalue": "Hjc() missing 1 required positional argument: 'Omega'",
     "output_type": "error",
     "traceback": [
      "\u001b[1;31m---------------------------------------------------------------------------\u001b[0m",
      "\u001b[1;31mTypeError\u001b[0m                                 Traceback (most recent call last)",
      "Cell \u001b[1;32mIn [64], line 17\u001b[0m\n\u001b[0;32m     12\u001b[0m     int_perturn \u001b[38;5;241m=\u001b[39m tensor(destroy(\u001b[38;5;241m2\u001b[39m), destroy(N)) \u001b[38;5;241m+\u001b[39m tensor(create(\u001b[38;5;241m2\u001b[39m), create(N))\n\u001b[0;32m     14\u001b[0m     \u001b[38;5;28;01mreturn\u001b[39;00m wa\u001b[38;5;241m/\u001b[39m\u001b[38;5;241m2\u001b[39m \u001b[38;5;241m*\u001b[39m sigma_z \u001b[38;5;241m+\u001b[39m wc \u001b[38;5;241m*\u001b[39m a_dag\u001b[38;5;241m*\u001b[39ma \u001b[38;5;241m+\u001b[39m Omega\u001b[38;5;241m/\u001b[39m\u001b[38;5;241m2\u001b[39m \u001b[38;5;241m*\u001b[39m (int_excitation \u001b[38;5;241m+\u001b[39m int_deexcitation \u001b[38;5;241m+\u001b[39m int_perturn)\n\u001b[1;32m---> 17\u001b[0m matrix \u001b[38;5;241m=\u001b[39m np\u001b[38;5;241m.\u001b[39mreal(\u001b[43mHjc\u001b[49m\u001b[43m(\u001b[49m\u001b[38;5;241;43m3\u001b[39;49m\u001b[43m)\u001b[49m\u001b[38;5;241m.\u001b[39mfull())\n\u001b[0;32m     18\u001b[0m table \u001b[38;5;241m=\u001b[39m PrettyTable()\n\u001b[0;32m     20\u001b[0m \u001b[38;5;28;01mfor\u001b[39;00m row \u001b[38;5;129;01min\u001b[39;00m matrix:\n",
      "\u001b[1;31mTypeError\u001b[0m: Hjc() missing 1 required positional argument: 'Omega'"
     ]
    }
   ],
   "source": [
    "from prettytable import PrettyTable\n",
    "def Hjc (N, Omega):\n",
    "    # N = number of photon states (number of photons + 1(no photon state) )\n",
    "    sigma_z = tensor(sigmaz(), qeye(N))\n",
    "    a = tensor(qeye(2), destroy(N))\n",
    "    a_dag = a.dag()\n",
    "    sig_p = tensor(create(2), qeye(N))\n",
    "    sig_m = sig_p.dag()\n",
    "\n",
    "    int_excitation = tensor(create(2), destroy(N))\n",
    "    int_deexcitation = tensor(destroy(2), create(N))\n",
    "    int_perturn = tensor(destroy(2), destroy(N)) + tensor(create(2), create(N))\n",
    "\n",
    "    return wa/2 * sigma_z + wc * a_dag*a + Omega/2 * (int_excitation + int_deexcitation + int_perturn)\n",
    "\n",
    "\n",
    "matrix = np.real(Hjc(3).full())\n",
    "table = PrettyTable()\n",
    "\n",
    "for row in matrix:\n",
    "    table.add_row(row)\n",
    "print(table)"
   ]
  },
  {
   "cell_type": "code",
   "execution_count": null,
   "metadata": {},
   "outputs": [
    {
     "ename": "TypeError",
     "evalue": "unsupported operand type(s) for *: 'numpy.ndarray' and 'Qobj'",
     "output_type": "error",
     "traceback": [
      "\u001b[1;31m---------------------------------------------------------------------------\u001b[0m",
      "\u001b[1;31mTypeError\u001b[0m                                 Traceback (most recent call last)",
      "Cell \u001b[1;32mIn [65], line 2\u001b[0m\n\u001b[0;32m      1\u001b[0m Oms \u001b[38;5;241m=\u001b[39m np\u001b[38;5;241m.\u001b[39mlinspace(\u001b[38;5;241m0\u001b[39m, \u001b[38;5;241m5\u001b[39m, \u001b[38;5;241m10\u001b[39m)\n\u001b[1;32m----> 2\u001b[0m Hams \u001b[38;5;241m=\u001b[39m \u001b[43mHjc\u001b[49m\u001b[43m(\u001b[49m\u001b[38;5;241;43m2\u001b[39;49m\u001b[43m,\u001b[49m\u001b[43m \u001b[49m\u001b[43mOms\u001b[49m\u001b[43m)\u001b[49m\n",
      "Cell \u001b[1;32mIn [64], line 14\u001b[0m, in \u001b[0;36mHjc\u001b[1;34m(N, Omega)\u001b[0m\n\u001b[0;32m     11\u001b[0m int_deexcitation \u001b[38;5;241m=\u001b[39m tensor(destroy(\u001b[38;5;241m2\u001b[39m), create(N))\n\u001b[0;32m     12\u001b[0m int_perturn \u001b[38;5;241m=\u001b[39m tensor(destroy(\u001b[38;5;241m2\u001b[39m), destroy(N)) \u001b[38;5;241m+\u001b[39m tensor(create(\u001b[38;5;241m2\u001b[39m), create(N))\n\u001b[1;32m---> 14\u001b[0m \u001b[38;5;28;01mreturn\u001b[39;00m wa\u001b[38;5;241m/\u001b[39m\u001b[38;5;241m2\u001b[39m \u001b[38;5;241m*\u001b[39m sigma_z \u001b[38;5;241m+\u001b[39m wc \u001b[38;5;241m*\u001b[39m a_dag\u001b[38;5;241m*\u001b[39ma \u001b[38;5;241m+\u001b[39m \u001b[43mOmega\u001b[49m\u001b[38;5;241;43m/\u001b[39;49m\u001b[38;5;241;43m2\u001b[39;49m\u001b[43m \u001b[49m\u001b[38;5;241;43m*\u001b[39;49m\u001b[43m \u001b[49m\u001b[43m(\u001b[49m\u001b[43mint_excitation\u001b[49m\u001b[43m \u001b[49m\u001b[38;5;241;43m+\u001b[39;49m\u001b[43m \u001b[49m\u001b[43mint_deexcitation\u001b[49m\u001b[43m \u001b[49m\u001b[38;5;241;43m+\u001b[39;49m\u001b[43m \u001b[49m\u001b[43mint_perturn\u001b[49m\u001b[43m)\u001b[49m\n",
      "\u001b[1;31mTypeError\u001b[0m: unsupported operand type(s) for *: 'numpy.ndarray' and 'Qobj'"
     ]
    }
   ],
   "source": [
    "Oms = np.linspace(0, 5, 10)\n",
    "Hams = [Hjc(2, i)"
   ]
  },
  {
   "cell_type": "code",
   "execution_count": null,
   "metadata": {},
   "outputs": [],
   "source": []
  }
 ],
 "metadata": {
  "kernelspec": {
   "display_name": "Python 3",
   "language": "python",
   "name": "python3"
  },
  "language_info": {
   "codemirror_mode": {
    "name": "ipython",
    "version": 3
   },
   "file_extension": ".py",
   "mimetype": "text/x-python",
   "name": "python",
   "nbconvert_exporter": "python",
   "pygments_lexer": "ipython3",
   "version": "3.10.7"
  }
 },
 "nbformat": 4,
 "nbformat_minor": 2
}
